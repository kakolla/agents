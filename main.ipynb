{
 "cells": [
  {
   "cell_type": "markdown",
   "id": "5e7695f2",
   "metadata": {},
   "source": [
    "### Install"
   ]
  },
  {
   "cell_type": "code",
   "execution_count": null,
   "id": "723b9330",
   "metadata": {},
   "outputs": [],
   "source": [
    "%pip install -U langchain-community langgraph langchain-google-genai tavily-python langgraph-checkpoint-sqlite"
   ]
  },
  {
   "cell_type": "code",
   "execution_count": null,
   "id": "f03a6d82",
   "metadata": {},
   "outputs": [],
   "source": [
    "%pip install python-dotenv"
   ]
  },
  {
   "cell_type": "code",
   "execution_count": 2,
   "id": "728a0102",
   "metadata": {},
   "outputs": [],
   "source": [
    "import getpass\n",
    "import os\n",
    "from dotenv import load_dotenv\n",
    "\n",
    "os.environ[\"LANGSMITH_TRACING\"] = \"true\"\n",
    "# os.environ[\"LANGSMITH_API_KEY\"] = getpass.getpass()\n",
    "\n",
    "load_dotenv()\n",
    "api_key = os.getenv(\"GOOGLE_API_KEY\")"
   ]
  },
  {
   "cell_type": "markdown",
   "id": "786317b6",
   "metadata": {},
   "source": [
    "### Create model"
   ]
  },
  {
   "cell_type": "code",
   "execution_count": 3,
   "id": "a61412a7",
   "metadata": {},
   "outputs": [],
   "source": [
    "from langchain_google_genai import ChatGoogleGenerativeAI\n",
    "\n",
    "llm = ChatGoogleGenerativeAI(\n",
    "    model=\"gemini-2.0-flash\",\n",
    "    temperature=0,\n",
    "    max_tokens=None,\n",
    "    timeout=None,\n",
    "    max_retries=2,\n",
    "    api_key=api_key\n",
    ")"
   ]
  },
  {
   "cell_type": "markdown",
   "id": "39d82faf",
   "metadata": {},
   "source": [
    "### Project Info Agent\n",
    "Extracts problem and make/model"
   ]
  },
  {
   "cell_type": "code",
   "execution_count": null,
   "id": "4a9ce2a2",
   "metadata": {},
   "outputs": [],
   "source": [
    "messages = [\n",
    "    (\n",
    "        \"system\",\n",
    "        \"You are a 'Project-info' agent that extracts a *problem* and *make/model* from a user's query. Return Unknown if inappropriate query.\"\n",
    "\n",
    "    ),\n",
    "    (\"human\", \"How do I clean my MSI GS66 laptop's fan?\"),\n",
    "\n",
    "]\n",
    "\n",
    "response = llm.invoke(messages)\n",
    "response\n",
    "response.content"
   ]
  },
  {
   "cell_type": "markdown",
   "id": "a4d78127",
   "metadata": {},
   "source": [
    "### Project Info Agent\n"
   ]
  },
  {
   "cell_type": "code",
   "execution_count": 38,
   "id": "1fc3853d",
   "metadata": {},
   "outputs": [],
   "source": [
    "from langchain_core.prompts import ChatPromptTemplate\n",
    "\n",
    "project_info_prompt = ChatPromptTemplate.from_messages(\n",
    "    [\n",
    "        (\n",
    "            \"system\",\n",
    "            \"You are a 'Project-info' agent that extracts a *problem* and\" \n",
    "            \"*make/model* from a user's query. Return Unknown if inappropriate\"\n",
    "            \"query. Return in valid JSON format\"\n",
    "            \n",
    "        ),\n",
    "        (\"human\", \"{input}\"),\n",
    "    ]\n",
    "\n",
    ")\n"
   ]
  },
  {
   "cell_type": "markdown",
   "id": "ceb7eac8",
   "metadata": {},
   "source": [
    "### Instructions Agent\n"
   ]
  },
  {
   "cell_type": "code",
   "execution_count": null,
   "id": "5121e854",
   "metadata": {},
   "outputs": [],
   "source": [
    "instruction_agent_prompt = ChatPromptTemplate.from_messages(\n",
    "    [\n",
    "        (\n",
    "            \"system\",\n",
    "            \"You are an 'Instruction-generator' agent that \"\n",
    "            \"provides a list of step-by-step instructions to solve the\"\n",
    "            \" given *problem* for the specified *make/model*. Provide it in JSON format with step1, step2, ... as the keys\"\n",
    "        ),\n",
    "        (\"human\", \"Problem: {problem}, Make/Model: {make_model}\"),\n",
    "    ]\n",
    ")"
   ]
  },
  {
   "cell_type": "markdown",
   "id": "3e2c914c",
   "metadata": {},
   "source": [
    "### Chaining"
   ]
  },
  {
   "cell_type": "code",
   "execution_count": 57,
   "id": "996ce994",
   "metadata": {},
   "outputs": [
    {
     "name": "stdout",
     "output_type": "stream",
     "text": [
      "\n",
      "{\n",
      "  \"problem\": \"memory card location\",\n",
      "  \"make/model\": \"nintendo switch\"\n",
      "}\n",
      "\n",
      "{'problem': 'memory card location', 'make/model': 'nintendo switch'}\n"
     ]
    }
   ],
   "source": [
    "# user_input = \"How do I clean my MSI GS66 laptop's fan?\"\n",
    "# user_input = \"What is the weather today\"\n",
    "user_input = \"Where can I find the memory card location on my nintendo switch?\"\n",
    "\n",
    "project_info_chain = project_info_prompt | llm\n",
    "project_info_response = project_info_chain.invoke({\"input\": user_input})\n",
    "\n",
    "project_info_content = project_info_response.content\n",
    "\n",
    "project_info_content = project_info_content.replace(\"```\", \"\")\n",
    "project_info_content = project_info_content.replace(\"json\", \"\")\n",
    "project_info = eval(project_info_content)\n",
    "print(project_info_content)\n",
    "print(project_info)"
   ]
  },
  {
   "cell_type": "code",
   "execution_count": 58,
   "id": "20ef4713",
   "metadata": {},
   "outputs": [
    {
     "name": "stdout",
     "output_type": "stream",
     "text": [
      "Okay, I can provide instructions on how to locate the memory card slot on a Nintendo Switch.\n",
      "\n",
      "**Instructions:**\n",
      "\n",
      "1.  **Power Down:** Ensure your Nintendo Switch is completely powered off before attempting to locate or access the microSD card slot.\n",
      "\n",
      "2.  **Locate the Kickstand:** On the back of the Nintendo Switch console, find the kickstand. It's a small, hinged flap that allows you to prop up the Switch on a flat surface.\n",
      "\n",
      "3.  **Open the Kickstand:** Gently open the kickstand.\n",
      "\n",
      "4.  **Find the microSD Card Slot:** Look for a small, rectangular slot located underneath the kickstand, near the hinge. It will be labeled. This is the microSD card slot.\n"
     ]
    }
   ],
   "source": [
    "problem = project_info.get(\"problem\", \"Unknown\")\n",
    "make_model = project_info.get(\"make/model\", \"Unknown\")\n",
    "\n",
    "if problem != \"Unknown\" and make_model != \"Unkown\":\n",
    "    instruction_chain = instruction_agent_prompt | llm\n",
    "    instruction_response = instruction_chain.invoke({\n",
    "        \"problem\": problem,\n",
    "        \"make_model\": make_model\n",
    "    })\n",
    "    print(instruction_response.content)\n",
    "\n",
    "# print(instruction_response)"
   ]
  }
 ],
 "metadata": {
  "kernelspec": {
   "display_name": ".venv",
   "language": "python",
   "name": "python3"
  },
  "language_info": {
   "codemirror_mode": {
    "name": "ipython",
    "version": 3
   },
   "file_extension": ".py",
   "mimetype": "text/x-python",
   "name": "python",
   "nbconvert_exporter": "python",
   "pygments_lexer": "ipython3",
   "version": "3.12.4"
  }
 },
 "nbformat": 4,
 "nbformat_minor": 5
}
